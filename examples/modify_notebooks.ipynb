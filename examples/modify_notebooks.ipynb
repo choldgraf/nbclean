{
 "cells": [
  {
   "cell_type": "code",
   "execution_count": 1,
   "metadata": {},
   "outputs": [],
   "source": [
    "import nbclean as nbc"
   ]
  },
  {
   "cell_type": "markdown",
   "metadata": {},
   "source": [
    "# Modifying notebooks with `nbclean`\n",
    "\n",
    "It's common to want to modify notebook code, outputs, etc according to some guidelines that you choose.\n",
    "\n",
    "Below are a few examples for how to do this with `nbclean`. To demonstrate, we'll use a\n",
    "notebook with lots of different information in it. We'll modify some cells, delete others, etc.\n",
    "Click the button below to see the \"original\" version of the notebook, it has explanations for\n",
    "how `nbclean` should treat each cell.\n",
    "\n",
    "<a href=\"test_notebooks/test_notebook.ipynb\"><button>Click here to see<br />the original notebook!</button></a>"
   ]
  },
  {
   "cell_type": "markdown",
   "metadata": {},
   "source": [
    "Below we'll read in the notebook with `nbclean`, and then run several processors on it.\n",
    "Note that these processors will treat cells differently depending on tags, cell content, etc."
   ]
  },
  {
   "cell_type": "code",
   "execution_count": 2,
   "metadata": {},
   "outputs": [],
   "source": [
    "# Here are paths to our notebooks\n",
    "path_original_notebook = './test_notebooks/test_notebook.ipynb'\n",
    "path_save = './test_notebooks/'"
   ]
  },
  {
   "cell_type": "code",
   "execution_count": 3,
   "metadata": {},
   "outputs": [],
   "source": [
    "# Clear different parts of the notebook cells based on tags\n",
    "ntbk = nbc.NotebookCleaner(path_original_notebook)\n",
    "ntbk.clear('output', tag='hide_output')\n",
    "ntbk.clear('content', tag='hide_content')\n",
    "ntbk.clear('stderr', tag='hide_stderr')\n",
    "\n",
    "# Removing entire cells\n",
    "ntbk.remove_cells(tag='remove')\n",
    "# Removing entire cells if they're empty and match a tag\n",
    "ntbk.remove_cells(tag='remove_if_empty', empty=True)\n",
    "# Removing entire cells based on text present in the source\n",
    "ntbk.remove_cells(search_text=\"# HIDDEN\")\n",
    "\n",
    "# Replacing text\n",
    "text_replace_begin = '### SOLUTION BEGIN'\n",
    "text_replace_end = '### SOLUTION END'\n",
    "ntbk.replace_text(text_replace_begin, text_replace_end)"
   ]
  },
  {
   "cell_type": "markdown",
   "metadata": {},
   "source": [
    "Finally, we'll save the notebook to a new \"cleaned\" location."
   ]
  },
  {
   "cell_type": "code",
   "execution_count": 4,
   "metadata": {},
   "outputs": [],
   "source": [
    "# Now we'll save the notebook to inspect\n",
    "ntbk.save(path_save + 'test_notebook_saved.ipynb')"
   ]
  },
  {
   "cell_type": "markdown",
   "metadata": {},
   "source": [
    "<a href=\"test_notebooks/test_notebook_saved.ipynb\"><button>Click here to see<br />the saved notebook!</button></a>"
   ]
  }
 ],
 "metadata": {
  "hide_input": false,
  "kernelspec": {
   "display_name": "Python 3",
   "language": "python",
   "name": "python3"
  },
  "language_info": {
   "codemirror_mode": {
    "name": "ipython",
    "version": 3
   },
   "file_extension": ".py",
   "mimetype": "text/x-python",
   "name": "python",
   "nbconvert_exporter": "python",
   "pygments_lexer": "ipython3",
   "version": "3.8.0"
  },
  "toc": {
   "toc_cell": false,
   "toc_number_sections": false,
   "toc_threshold": "2",
   "toc_window_display": false
  }
 },
 "nbformat": 4,
 "nbformat_minor": 2
}

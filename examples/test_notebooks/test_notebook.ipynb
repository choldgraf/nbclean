{
 "cells": [
  {
   "cell_type": "code",
   "execution_count": 1,
   "metadata": {
    "collapsed": true
   },
   "outputs": [],
   "source": [
    "import numpy as np\n",
    "import matplotlib.pyplot as plt\n",
    "%matplotlib inline"
   ]
  },
  {
   "cell_type": "markdown",
   "metadata": {},
   "source": [
    "This is a notebook that we've drafted for an upcoming class. There are some markdown prompts, cells where students must insert code, and cells where students must give text answers.\n",
    "\n",
    "We'll strip this notebook of all outputs and cell execution numbers, and format the input cells so that they're ready for submitting to students as homework templates."
   ]
  },
  {
   "cell_type": "markdown",
   "metadata": {},
   "source": [
    "# Removing text within a cell\n",
    "\n",
    "`nbclean` lets you specify text *within a cell* that you wanted removed. For example, below\n",
    "we show the \"master copy\" of a homework question. It includes the markdown for the question,\n",
    "and the answer in code below.\n",
    "\n",
    "By wrapping the answer with `SOLUTION BEGIN` comments, we can use `nbclean` to scrub this and\n",
    "generate a student notebook."
   ]
  },
  {
   "cell_type": "markdown",
   "metadata": {},
   "source": [
    "## Question 1\n",
    "* First, multiply `a` by 2\n",
    "* Make a plot of the result\n",
    "* We show an example of how the plot should appear below"
   ]
  },
  {
   "cell_type": "code",
   "execution_count": 2,
   "metadata": {},
   "outputs": [],
   "source": [
    "# First we'll create 'a'\n",
    "a = np.arange(10)\n",
    "\n",
    "### SOLUTION BEGIN\n",
    "# We can use the STUDENT ANSWER block to remove only part\n",
    "# of the cell (as well as the output). This way you can give\n",
    "# students prompts or help them along with some partial answers.\n",
    "b = a * 2\n",
    "plt.plot(b)\n",
    "\n",
    "# Students will now see a replacement answer prompt, and\n",
    "# won't see the solution. By default the replacement answer will\n",
    "# raise an error to make sure students don't miss it.\n",
    "### SOLUTION END"
   ]
  },
  {
   "cell_type": "markdown",
   "metadata": {},
   "source": [
    "Note that the **output** of the cell wasn't changed (you can control that separately,\n",
    "see below for more details)."
   ]
  },
  {
   "cell_type": "markdown",
   "metadata": {},
   "source": [
    "## Cells without the matching text won't be modified\n",
    "\n",
    "Here's an example of how we can plot the two variables against each other."
   ]
  },
  {
   "cell_type": "code",
   "execution_count": 3,
   "metadata": {},
   "outputs": [],
   "source": [
    "# Cells without any of the text that we search for using the\n",
    "# strip_notebooks function won't be affected at all.\n",
    "plt.scatter(a, a*2)"
   ]
  },
  {
   "cell_type": "markdown",
   "metadata": {},
   "source": [
    "## Text flags work within Markdown cells too\n",
    "\n",
    "Finally, it is often useful to ask students \"conceptual\" questions that are answered with prose rather than with code. It's clunky to use code cells for this, so `create_answer_cells` also works with markdown cells using the same syntax as before:\n",
    "\n",
    "For example, we could ask students:\n",
    "\n",
    "> $y$ is the square of $x$, explain the relationship between x and y with an equation.\n",
    "\n",
    "### SOLUTION BEGIN\n",
    "$y = x ^ 2$\n",
    "### SOLUTION END\n",
    "\n",
    "And the above will be removed with a prompt for students to answer."
   ]
  },
  {
   "cell_type": "markdown",
   "metadata": {},
   "source": [
    "# Removing cell parts + filtering with tags\n",
    "\n",
    "With `nbclean` you can remove parts of cells (such as `stderr`, the content block, output images, etc).\n",
    "\n",
    "This can be applied to all cells, or applied to a subset by using **Cell tags**.\n",
    "\n",
    "To add a cell tag, click `View -> Cell Toolbar -> Tags` to see the tag toolbars.\n",
    "You can define arbitrary tags to each cell. Then, when you run `nbclean` on the notebook,\n",
    "you can cause any command to *only* be applied to cells with a given tag (see the [modify_notebooks.ipynb](../modify_notebooks.ipynb) notebook to see this in action).\n",
    "\n",
    "Many different tags have been added to the cells below, each one will be used in [modify_notebooks.ipynb](../modify_notebooks.ipynb)\n",
    "to scrub different parts of the cell."
   ]
  },
  {
   "cell_type": "code",
   "execution_count": 4,
   "metadata": {
    "tags": [
     "hide_output"
    ]
   },
   "outputs": [],
   "source": [
    "# This cell's output will be hidden\n",
    "plt.plot(np.random.randn(50))"
   ]
  },
  {
   "cell_type": "code",
   "execution_count": 5,
   "metadata": {
    "tags": [
     "hide_content"
    ]
   },
   "outputs": [],
   "source": [
    "# This cell's content will be hidden\n",
    "plt.scatter(np.random.randn(50), np.random.randn(50))"
   ]
  },
  {
   "cell_type": "code",
   "execution_count": 6,
   "metadata": {
    "tags": [
     "hide_stderr"
    ]
   },
   "outputs": [],
   "source": [
    "# The sterr output of this cell will be hidden\n",
    "from warnings import warn\n",
    "print(\"This was a triumph.\")\n",
    "warn(\"I'm making a note here.\")\n",
    "plt.text(.5, .5, \"Huge success.\")"
   ]
  },
  {
   "cell_type": "code",
   "execution_count": 7,
   "metadata": {
    "tags": [
     "remove"
    ]
   },
   "outputs": [],
   "source": [
    "# This cell will be removed entirely\n",
    "plt.hist(np.random.randn(50))"
   ]
  },
  {
   "cell_type": "markdown",
   "metadata": {},
   "source": [
    "## Removing empty cells\n",
    "\n",
    "You can also remove empty cells if you wish!"
   ]
  },
  {
   "cell_type": "code",
   "execution_count": null,
   "metadata": {
    "tags": [
     "remove_if_empty"
    ]
   },
   "outputs": [],
   "source": []
  },
  {
   "cell_type": "code",
   "execution_count": 8,
   "metadata": {
    "tags": [
     "remove_if_empty"
    ]
   },
   "outputs": [],
   "source": [
    "# The above cell should be removed!"
   ]
  },
  {
   "cell_type": "markdown",
   "metadata": {},
   "source": [
    "## Removing cells with text in it\n",
    "The following cell should be removed"
   ]
  },
  {
   "cell_type": "code",
   "execution_count": 9,
   "metadata": {},
   "outputs": [],
   "source": [
    "# HIDDEN\n",
    "\n",
    "my_cell = \"this shouldn't show up\""
   ]
  },
  {
   "cell_type": "code",
   "execution_count": null,
   "metadata": {},
   "outputs": [],
   "source": []
  },
  {
   "cell_type": "markdown",
   "metadata": {},
   "source": [
    "# This cell shouldn't be touched"
   ]
  },
  {
   "cell_type": "code",
   "execution_count": 10,
   "metadata": {},
   "outputs": [],
   "source": [
    "# There are no removal / modification tags in this cell\n",
    "print(\"I'm not gonna cook it\")\n",
    "warn(\"But I'll order it from zanzibar\")\n",
    "plt.hist(np.random.randn(50))"
   ]
  }
 ],
 "metadata": {
  "celltoolbar": "Tags",
  "hide_input": false,
  "kernelspec": {
   "display_name": "Python 3",
   "language": "python",
   "name": "python3"
  },
  "language_info": {
   "codemirror_mode": {
    "name": "ipython",
    "version": 3
   },
   "file_extension": ".py",
   "mimetype": "text/x-python",
   "name": "python",
   "nbconvert_exporter": "python",
   "pygments_lexer": "ipython3",
   "version": "3.8.0"
  },
  "toc": {
   "toc_cell": false,
   "toc_number_sections": false,
   "toc_threshold": "2",
   "toc_window_display": false
  }
 },
 "nbformat": 4,
 "nbformat_minor": 2
}

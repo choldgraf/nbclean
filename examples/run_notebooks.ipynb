{
 "cells": [
  {
   "cell_type": "markdown",
   "metadata": {},
   "source": [
    "Currently, there is no official auto-grading solution for grading student notebooks. There are a few options out there, but they will require some custom set up for each connector.\n",
    "\n",
    "The `connectortools` module has some functionality for making the process more simple. Currently this is in the form of a single function that lets you run a student's notbeook and collect the output of each cell. This may make it easier to auto-grade notebooks without manually running the cells.\n",
    "\n",
    "If there is another function or service you'd find useful, don't hesitate to ask the data 8 support team and we can try to throw something together if it's feasible.\n",
    "\n",
    "## Running student notebooks\n",
    "Let's say that you've given a homework assignment to two students. You've added an assertion statement to test whether a function they created is correct. One student did this the right way, one did it the wrong way.\n",
    "\n",
    "You've got both student notebooks in a folder called `student_submissions`. Below we'll show how you can automatically run these notebooks."
   ]
  },
  {
   "cell_type": "code",
   "execution_count": 1,
   "metadata": {
    "collapsed": true
   },
   "outputs": [],
   "source": [
    "import nbclean as nbc"
   ]
  },
  {
   "cell_type": "markdown",
   "metadata": {},
   "source": [
    "## Running a notebook individually\n",
    "Your first option is to use the `run_notebook` function. This will take a path to a notebook (or a notebook instance) as an input. It will execute the notebook and return the new notebook instance. You can then save the notebook if you wish."
   ]
  },
  {
   "cell_type": "code",
   "execution_count": 2,
   "metadata": {},
   "outputs": [],
   "source": [
    "# We can simply point to the notebook path\n",
    "path_notebook = './test_notebooks/test_notebook.ipynb'\n",
    "notebook = nbc.run_notebook(path_notebook)\n",
    "\n",
    "# The output is an instance of `NotebookNode`\n",
    "notebook['cells']"
   ]
  },
  {
   "cell_type": "code",
   "execution_count": 3,
   "metadata": {},
   "outputs": [],
   "source": [
    "# Notebooks with an error will still be run\n",
    "# The error message is collected in the output"
   ]
  },
  {
   "cell_type": "markdown",
   "metadata": {},
   "source": [
    "## Running a directory of notebooks\n",
    "Often you just want to run a whole directory of notebooks and save the results so you can look at them later. You can do this with the `run_notebook_directory` function. In this case, you can easily save the outputs to a new folder for inspection."
   ]
  },
  {
   "cell_type": "code",
   "execution_count": 4,
   "metadata": {
    "scrolled": true
   },
   "outputs": [],
   "source": [
    "import os.path as op\n",
    "directory = op.join('.', 'test_notebooks')\n",
    "path_save = op.join(directory, 'executed_notebooks')\n",
    "nbc.run_notebook_directory(directory, path_save=path_save, overwrite=True)"
   ]
  },
  {
   "cell_type": "markdown",
   "metadata": {},
   "source": [
    "If you now navigate to the `student_submissions` folder, you will find the new folder created with executed student notebooks inside."
   ]
  }
 ],
 "metadata": {
  "kernelspec": {
   "display_name": "Python 3",
   "language": "python",
   "name": "python3"
  },
  "language_info": {
   "codemirror_mode": {
    "name": "ipython",
    "version": 3
   },
   "file_extension": ".py",
   "mimetype": "text/x-python",
   "name": "python",
   "nbconvert_exporter": "python",
   "pygments_lexer": "ipython3",
   "version": "3.8.0"
  },
  "toc": {
   "toc_cell": false,
   "toc_number_sections": false,
   "toc_threshold": "2",
   "toc_window_display": false
  }
 },
 "nbformat": 4,
 "nbformat_minor": 2
}

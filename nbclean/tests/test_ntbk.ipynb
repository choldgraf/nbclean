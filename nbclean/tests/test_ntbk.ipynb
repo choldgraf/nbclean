{
 "cells": [
  {
   "cell_type": "code",
   "execution_count": 5,
   "metadata": {},
   "outputs": [],
   "source": [
    "import numpy as np\n",
    "import matplotlib.pyplot as plt\n"
   ]
  },
  {
   "cell_type": "code",
   "execution_count": 6,
   "metadata": {},
   "outputs": [
    {
     "name": "stdout",
     "output_type": "stream",
     "text": [
      "[-0.67139679 -0.26301541  0.90475301  0.26860184 -0.26298087  0.69471387\n",
      " -0.25056401  0.88776075  0.72158474  1.85736074  0.66498524 -1.05533773\n",
      "  0.2557662  -0.35782698 -1.22311678  0.29705806 -0.3656215   1.28735576\n",
      " -0.59759329 -1.47608631  1.14256643  0.35187779 -0.31543995  0.39616378\n",
      " -1.49211312 -0.28339486 -0.99616336 -1.21515278 -0.08821975 -0.93088063\n",
      " -1.49869708  0.69212457 -1.07604843  0.71398838  0.70016197 -1.48173266\n",
      " -0.6469164  -0.67077566 -1.98665879  0.44908398  0.30941553 -0.07111817\n",
      " -0.2849148  -1.71311985 -1.0535944  -1.76904188 -0.9050328   0.93060187\n",
      " -0.44136533 -0.76352284  0.11690784  0.28561735  0.98891274 -0.8814321\n",
      " -0.22021476  1.00494558 -0.710093   -0.73756943 -0.85998814  1.33255988\n",
      "  0.5086262  -1.08647176 -1.56515131  1.10985324 -0.54541542 -2.30919053\n",
      " -0.49780332  0.59398717 -0.33143087 -2.04041841  1.03540008  1.0299355\n",
      "  0.3476258  -1.03014569  1.39685231 -0.30838676 -0.0574229   1.13510735\n",
      " -0.43673828  1.44453842 -0.2518619  -0.11729134  0.66129754 -0.38529884\n",
      "  1.88922374 -0.32829555  0.63820617  1.05749339  1.75428034  1.1194625\n",
      "  0.0330319  -2.61516635  0.37014932  0.11478297 -0.06323435  0.04682816\n",
      " -1.32195124  0.62900612  0.74616031 -0.07132423]\n"
     ]
    }
   ],
   "source": [
    "data = np.random.randn(2, 100)\n",
    "print(data[0])"
   ]
  },
  {
   "cell_type": "code",
   "execution_count": 7,
   "metadata": {},
   "outputs": [
    {
     "data": {
      "text/plain": [
       "<matplotlib.collections.PathCollection at 0x7f735d066940>"
      ]
     },
     "execution_count": 7,
     "metadata": {},
     "output_type": "execute_result"
    },
    {
     "data": {
      "text/plain": [
       "<Figure size 432x288 with 1 Axes>"
      ]
     },
     "metadata": {
      "needs_background": "light"
     },
     "output_type": "display_data"
    }
   ],
   "source": [
    "plt.scatter(*data)"
   ]
  },
  {
   "cell_type": "code",
   "execution_count": null,
   "metadata": {},
   "outputs": [],
   "source": []
  }
 ],
 "metadata": {
  "kernelspec": {
   "display_name": "Python 3",
   "language": "python",
   "name": "python3"
  },
  "language_info": {
   "codemirror_mode": {
    "name": "ipython",
    "version": 3
   },
   "file_extension": ".py",
   "mimetype": "text/x-python",
   "name": "python",
   "nbconvert_exporter": "python",
   "pygments_lexer": "ipython3",
   "version": "3.7.3"
  }
 },
 "nbformat": 4,
 "nbformat_minor": 4
}

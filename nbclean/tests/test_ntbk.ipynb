{
 "cells": [
  {
   "cell_type": "code",
   "execution_count": 1,
   "metadata": {},
   "outputs": [],
   "source": [
    "import numpy as np\n",
    "import matplotlib.pyplot as plt\n"
   ]
  },
  {
   "cell_type": "code",
   "execution_count": 2,
   "metadata": {},
   "outputs": [
    {
     "name": "stdout",
     "output_type": "stream",
     "text": [
      "[-0.1291054   0.12687936 -0.43424441 -0.42527338 -1.06042428  0.873431\n",
      " -1.41487395  0.16180383 -0.36963902 -1.47040749  0.5380093   1.64442094\n",
      "  0.01550058 -0.36913987  1.3185561   1.47267394 -0.24117057 -0.1868983\n",
      " -2.39743438  1.97167598 -0.17841205 -0.52284158 -0.18303555 -0.00747752\n",
      "  0.26361847  0.91230463 -1.17812049 -0.11316573  0.37338041  0.55512641\n",
      " -0.72108943  1.6370304  -0.95906868 -0.32059531 -1.5615334  -1.07300787\n",
      "  0.68033934  0.67717045  1.02077096 -0.15936002 -0.71579344 -1.18348182\n",
      " -1.40105323 -0.09305708 -0.79004453 -0.83884275 -1.03279955 -1.50604434\n",
      " -0.84528241  1.83662664  0.93372929  0.7034139  -0.43927167  0.06370446\n",
      "  1.28176304 -0.3374127  -0.573012   -0.89501561  1.26972311  0.03706608\n",
      "  0.38862378  0.64093822  0.64688551  0.9963434   0.53692001  0.33476171\n",
      "  0.13735019 -1.04149315  0.63202144 -1.1908394   0.54666563  1.74715812\n",
      " -1.10135633 -0.51360652  1.26403823 -1.24094441  1.50736803  0.10323768\n",
      " -0.92334085 -1.66044892 -0.02672489 -0.06145144  0.96691626 -0.01344665\n",
      " -1.26492364  1.33620823 -0.11632291 -2.2070902  -0.15912759  2.1311936\n",
      " -0.56929863 -0.63117047  0.32744059  0.68677507 -0.28456693  0.48483996\n",
      " -1.05184195 -0.80990045 -2.42788281  1.58669496]\n"
     ]
    }
   ],
   "source": [
    "data = np.random.randn(2, 100)\n",
    "print(data[0])"
   ]
  },
  {
   "cell_type": "code",
   "execution_count": 3,
   "metadata": {},
   "outputs": [
    {
     "data": {
      "text/plain": [
       "<matplotlib.collections.PathCollection at 0x7fe25a9ddb38>"
      ]
     },
     "execution_count": 3,
     "metadata": {},
     "output_type": "execute_result"
    },
    {
     "data": {
      "image/png": "[encoded data removed]",
      "text/plain": [
       "<Figure size 432x288 with 1 Axes>"
      ]
     },
     "metadata": {
      "needs_background": "light"
     },
     "output_type": "display_data"
    }
   ],
   "source": [
    "plt.scatter(*data)"
   ]
  },
  {
   "cell_type": "code",
   "execution_count": null,
   "metadata": {},
   "outputs": [],
   "source": []
  }
 ],
 "metadata": {
  "kernelspec": {
   "display_name": "Python 3",
   "language": "python",
   "name": "python3"
  },
  "language_info": {
   "codemirror_mode": {
    "name": "ipython",
    "version": 3
   },
   "file_extension": ".py",
   "mimetype": "text/x-python",
   "name": "python",
   "nbconvert_exporter": "python",
   "pygments_lexer": "ipython3",
   "version": "3.7.3"
  }
 },
 "nbformat": 4,
 "nbformat_minor": 4
}
